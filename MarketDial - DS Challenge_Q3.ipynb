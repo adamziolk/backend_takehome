{
 "cells": [
  {
   "cell_type": "code",
   "execution_count": 1,
   "id": "cd52aff2",
   "metadata": {},
   "outputs": [],
   "source": [
    "import numpy as np\n",
    "import pandas as pd"
   ]
  },
  {
   "cell_type": "markdown",
   "id": "7bf2e3fe",
   "metadata": {},
   "source": [
    "##### Assumptions"
   ]
  },
  {
   "cell_type": "markdown",
   "id": "24fb0425",
   "metadata": {},
   "source": [
    "- Test period should end on 2017-02-11: 90 days before and 90 days after"
   ]
  },
  {
   "cell_type": "markdown",
   "id": "7365a6d6",
   "metadata": {},
   "source": [
    "##### Read in the Data and Filter"
   ]
  },
  {
   "cell_type": "code",
   "execution_count": 2,
   "id": "2022e4f8",
   "metadata": {},
   "outputs": [],
   "source": [
    "products = pd.read_csv(f\"/home/adam/Documents/JobApplications/MarketDial/marketdial_ds_takehome/products_of_interest.csv\", header=None)\n",
    "stores = pd.read_csv(f\"/home/adam/Documents/JobApplications/MarketDial/marketdial_ds_takehome/store_attributes.csv\", usecols=list(range(1, 7)))\n",
    "transactions = pd.read_csv(f\"/home/adam/Documents/JobApplications/MarketDial/marketdial_ds_takehome/transactions.csv\", usecols=list(range(1, 6)))\n",
    "\n",
    "treatment_stores = pd.read_csv(f\"/home/adam/Documents/JobApplications/MarketDial/marketdial_ds_takehome/q3_treatment_stores.csv\", header=None, names=[\"treatment\"])\n",
    "control_stores = pd.read_csv(f\"/home/adam/Documents/JobApplications/MarketDial/marketdial_ds_takehome/q3_control_stores.csv\", header=None, names=[\"control\"])\n",
    "products_of_interest = pd.read_csv(f\"/home/adam/Documents/JobApplications/MarketDial/marketdial_ds_takehome/products_of_interest.csv\", header=None, names=[\"products\"])"
   ]
  },
  {
   "cell_type": "code",
   "execution_count": 3,
   "id": "19286db4",
   "metadata": {},
   "outputs": [],
   "source": [
    "# Convert to datetime\n",
    "transactions['date_week'] = pd.to_datetime(transactions['date_week'])"
   ]
  },
  {
   "cell_type": "code",
   "execution_count": 4,
   "id": "3b5ed73b",
   "metadata": {},
   "outputs": [],
   "source": [
    "# Check relevance of column\n",
    "transactions['currency_code'].unique()\n",
    "\n",
    "# Drop column\n",
    "transactions.drop(columns=['currency_code'], inplace=True)"
   ]
  },
  {
   "cell_type": "code",
   "execution_count": 5,
   "id": "cd2d132c",
   "metadata": {},
   "outputs": [],
   "source": [
    "# Identify stores of interest\n",
    "stores_of_interest = pd.concat([treatment_stores[\"treatment\"], control_stores[\"control\"]]).values\n",
    "\n",
    "# Define dates of interest\n",
    "pre_start, pre_stop = np.datetime64('2016-07-17'), np.datetime64('2016-10-09')\n",
    "post_start, post_stop = np.datetime64('2016-11-13'), np.datetime64('2017-02-05')\n",
    "\n",
    "# Filter transactions\n",
    "pre_transactions = transactions[transactions['store_id'].isin(stores_of_interest) &\n",
    "                                transactions['date_week'].between(pre_start, pre_stop) &\n",
    "                                transactions['product_id'].isin(products_of_interest['products'])]\n",
    "\n",
    "post_transactions = transactions[transactions['store_id'].isin(stores_of_interest) &\n",
    "                                transactions['date_week'].between(post_start, post_stop) &\n",
    "                                transactions['product_id'].isin(products_of_interest['products'])]\n",
    "                               "
   ]
  },
  {
   "cell_type": "code",
   "execution_count": null,
   "id": "518b125e",
   "metadata": {},
   "outputs": [],
   "source": [
    "# Label Records\n",
    "pre_transactions.loc[pre_transactions['store_id'].isin(treatment_stores['treatment']), 'group'] = 'treatment'\n",
    "pre_transactions.loc[pre_transactions['store_id'].isin(control_stores['control']), 'group'] = 'control'\n",
    "\n",
    "post_transactions.loc[post_transactions['store_id'].isin(treatment_stores['treatment']), 'group'] = 'treatment'\n",
    "post_transactions.loc[post_transactions['store_id'].isin(control_stores['control']), 'group'] = 'control'"
   ]
  },
  {
   "cell_type": "code",
   "execution_count": null,
   "id": "3c3f3dd7",
   "metadata": {},
   "outputs": [],
   "source": []
  }
 ],
 "metadata": {
  "kernelspec": {
   "display_name": "venv",
   "language": "python",
   "name": "venv"
  },
  "language_info": {
   "codemirror_mode": {
    "name": "ipython",
    "version": 3
   },
   "file_extension": ".py",
   "mimetype": "text/x-python",
   "name": "python",
   "nbconvert_exporter": "python",
   "pygments_lexer": "ipython3",
   "version": "3.9.5"
  }
 },
 "nbformat": 4,
 "nbformat_minor": 5
}
