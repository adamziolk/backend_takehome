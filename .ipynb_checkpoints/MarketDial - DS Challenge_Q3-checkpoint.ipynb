{
 "cells": [
  {
   "cell_type": "code",
   "execution_count": 45,
   "id": "97ed1bdd",
   "metadata": {},
   "outputs": [],
   "source": [
    "import numpy as np\n",
    "import pandas as pd\n",
    "from scipy import stats\n",
    "import seaborn as sns\n",
    "import matplotlib.pyplot as plt\n",
    "\n",
    "import warnings\n",
    "warnings.filterwarnings('ignore') # Python is not happy about my loc statement in \"label_stores\""
   ]
  },
  {
   "cell_type": "markdown",
   "id": "22975153",
   "metadata": {},
   "source": [
    "##### Assumptions"
   ]
  },
  {
   "cell_type": "markdown",
   "id": "746ec85e",
   "metadata": {},
   "source": [
    "- Test period should end on 2017-02-11: 90 days before and 90 days after"
   ]
  },
  {
   "cell_type": "markdown",
   "id": "836918e4",
   "metadata": {},
   "source": [
    "##### Read in the Data and Filter"
   ]
  },
  {
   "cell_type": "code",
   "execution_count": 2,
   "id": "0855bf16",
   "metadata": {},
   "outputs": [],
   "source": [
    "products = pd.read_csv(f\"/home/adam/Documents/JobApplications/MarketDial/marketdial_ds_takehome/products_of_interest.csv\", header=None)\n",
    "stores = pd.read_csv(f\"/home/adam/Documents/JobApplications/MarketDial/marketdial_ds_takehome/store_attributes.csv\", usecols=list(range(1, 7)))\n",
    "transactions = pd.read_csv(f\"/home/adam/Documents/JobApplications/MarketDial/marketdial_ds_takehome/transactions.csv\", usecols=list(range(1, 6)))\n",
    "\n",
    "treatment_stores = pd.read_csv(f\"/home/adam/Documents/JobApplications/MarketDial/marketdial_ds_takehome/q3_treatment_stores.csv\", header=None, names=[\"treatment\"])\n",
    "control_stores = pd.read_csv(f\"/home/adam/Documents/JobApplications/MarketDial/marketdial_ds_takehome/q3_control_stores.csv\", header=None, names=[\"control\"])\n",
    "products_of_interest = pd.read_csv(f\"/home/adam/Documents/JobApplications/MarketDial/marketdial_ds_takehome/products_of_interest.csv\", header=None, names=[\"products\"])"
   ]
  },
  {
   "cell_type": "code",
   "execution_count": 3,
   "id": "01066918",
   "metadata": {},
   "outputs": [],
   "source": [
    "# Convert to datetime\n",
    "transactions['date_week'] = pd.to_datetime(transactions['date_week'])"
   ]
  },
  {
   "cell_type": "code",
   "execution_count": 4,
   "id": "0e62cf0f",
   "metadata": {},
   "outputs": [],
   "source": [
    "# Check relevance of column\n",
    "transactions['currency_code'].unique()\n",
    "\n",
    "# Drop column\n",
    "transactions.drop(columns=['currency_code'], inplace=True)"
   ]
  },
  {
   "cell_type": "code",
   "execution_count": 5,
   "id": "5f3e4f36",
   "metadata": {},
   "outputs": [],
   "source": [
    "# Identify stores of interest\n",
    "stores_of_interest = pd.concat([treatment_stores[\"treatment\"], control_stores[\"control\"]]).values\n",
    "\n",
    "# Define dates of interest\n",
    "pre_start, pre_stop = np.datetime64('2016-07-17'), np.datetime64('2016-10-09')\n",
    "post_start, post_stop = np.datetime64('2016-11-13'), np.datetime64('2017-02-05')\n",
    "\n",
    "# Filter transactions\n",
    "pre_transactions = transactions[transactions['store_id'].isin(stores_of_interest) &\n",
    "                                transactions['date_week'].between(pre_start, pre_stop) &\n",
    "                                transactions['product_id'].isin(products_of_interest['products'])]\n",
    "\n",
    "post_transactions = transactions[transactions['store_id'].isin(stores_of_interest) &\n",
    "                                transactions['date_week'].between(post_start, post_stop) &\n",
    "                                transactions['product_id'].isin(products_of_interest['products'])]"
   ]
  },
  {
   "cell_type": "code",
   "execution_count": 52,
   "id": "553ea075",
   "metadata": {},
   "outputs": [],
   "source": [
    "# Create helper functions for processing\n",
    "def label_stores(df, treatment_stores_df, control_stores_df):\n",
    "    '''Create a \"group\" column to label which records are treatment vs control group'''\n",
    "    \n",
    "    df.loc[df['store_id'].isin(treatment_stores_df['treatment']), 'group'] = 'treatment'\n",
    "    df.loc[df['store_id'].isin(control_stores_df['control']), 'group'] = 'control'\n",
    "    \n",
    "def aggregate_products(df):\n",
    "    '''Aggregate the revenue for each store-week to account for all products of interest'''\n",
    "#     return df.groupby(['date_week', 'store_id', 'group'])['revenue'].agg(sum).reset_index()\n",
    "    return df.groupby(['date_week', 'group'])['revenue'].agg(sum).reset_index()\n",
    "\n",
    "\n",
    "def split_stores(df):\n",
    "    '''Split a dataframe into two dataframes containing treatment records and control records'''\n",
    "    control = df[df['group'] == 'control']\n",
    "    treatment = df[df['group'] == 'treatment']\n",
    "    \n",
    "    return (treatment, control)\n",
    "\n",
    "def process_dataframe(df, treatment_stores_df, control_stores_df):\n",
    "    '''Calling function to control label_stores, aggregate_products, split_stores'''\n",
    "    label_stores(df, treatment_stores_df, control_stores_df)\n",
    "    aggregated = aggregate_products(df)\n",
    "    return split_stores(aggregated)\n",
    "    "
   ]
  },
  {
   "cell_type": "code",
   "execution_count": 53,
   "id": "cafe4a87",
   "metadata": {},
   "outputs": [],
   "source": [
    "# Process the data\n",
    "pre_treatment, pre_control = process_dataframe(pre_transactions, treatment_stores, control_stores)\n",
    "post_treatment, post_control = process_dataframe(post_transactions, treatment_stores, control_stores)"
   ]
  },
  {
   "cell_type": "markdown",
   "id": "37000303",
   "metadata": {},
   "source": [
    "##### Visualize"
   ]
  },
  {
   "cell_type": "code",
   "execution_count": 60,
   "id": "dfa026ea",
   "metadata": {},
   "outputs": [
    {
     "data": {
      "text/plain": [
       "<AxesSubplot:xlabel='date_week', ylabel='revenue'>"
      ]
     },
     "execution_count": 60,
     "metadata": {},
     "output_type": "execute_result"
    },
    {
     "data": {
      "image/png": "[encoded data removed]",
      "text/plain": [
       "<Figure size 432x288 with 1 Axes>"
      ]
     },
     "metadata": {
      "needs_background": "light"
     },
     "output_type": "display_data"
    }
   ],
   "source": [
    "# data = pre_control\n",
    "# data = pre_treatment\n",
    "data = pd.concat([pre_treatment, pre_control])\n",
    "\n",
    "# sns.scatterplot(x='date_week', y='revenue', hue='store_id', data=data)\n",
    "sns.scatterplot(x='date_week', y='revenue', hue='group', data=data)"
   ]
  },
  {
   "cell_type": "markdown",
   "id": "580cc713",
   "metadata": {},
   "source": [
    "##### Check Significance"
   ]
  },
  {
   "cell_type": "code",
   "execution_count": 19,
   "id": "72e9ac02",
   "metadata": {},
   "outputs": [
    {
     "data": {
      "text/plain": [
       "Ttest_relResult(statistic=12.551105082950729, pvalue=1.0222051737721358e-29)"
      ]
     },
     "execution_count": 19,
     "metadata": {},
     "output_type": "execute_result"
    }
   ],
   "source": [
    "stats.ttest_rel(pre_treatment['revenue'], post_treatment['revenue'])"
   ]
  },
  {
   "cell_type": "code",
   "execution_count": 20,
   "id": "9e128088",
   "metadata": {},
   "outputs": [
    {
     "data": {
      "text/plain": [
       "Ttest_relResult(statistic=17.126170112709545, pvalue=2.8425475875213235e-47)"
      ]
     },
     "execution_count": 20,
     "metadata": {},
     "output_type": "execute_result"
    }
   ],
   "source": [
    "stats.ttest_rel(pre_control['revenue'], post_control['revenue'])"
   ]
  },
  {
   "cell_type": "code",
   "execution_count": 21,
   "id": "10dd7e9c",
   "metadata": {},
   "outputs": [
    {
     "data": {
      "text/plain": [
       "Ttest_indResult(statistic=6.016877519444027, pvalue=2.9742833910374385e-09)"
      ]
     },
     "execution_count": 21,
     "metadata": {},
     "output_type": "execute_result"
    }
   ],
   "source": [
    "stats.ttest_ind(pre_treatment['revenue'], post_treatment['revenue'])"
   ]
  },
  {
   "cell_type": "code",
   "execution_count": 22,
   "id": "1eb018ba",
   "metadata": {},
   "outputs": [
    {
     "data": {
      "text/plain": [
       "Ttest_indResult(statistic=8.049002800027818, pvalue=3.996907897359851e-15)"
      ]
     },
     "execution_count": 22,
     "metadata": {},
     "output_type": "execute_result"
    }
   ],
   "source": [
    "stats.ttest_ind(pre_control['revenue'], post_control['revenue'])"
   ]
  },
  {
   "cell_type": "code",
   "execution_count": 23,
   "id": "fc543db8",
   "metadata": {},
   "outputs": [
    {
     "data": {
      "text/plain": [
       "Ttest_indResult(statistic=-0.8375414898785917, pvalue=0.4025970584836729)"
      ]
     },
     "execution_count": 23,
     "metadata": {},
     "output_type": "execute_result"
    }
   ],
   "source": [
    "stats.ttest_ind(pre_treatment['revenue'], pre_control['revenue'])"
   ]
  },
  {
   "cell_type": "code",
   "execution_count": 24,
   "id": "2eddfd07",
   "metadata": {},
   "outputs": [
    {
     "data": {
      "text/plain": [
       "Ttest_indResult(statistic=1.6151544697719475, pvalue=0.1067640072601215)"
      ]
     },
     "execution_count": 24,
     "metadata": {},
     "output_type": "execute_result"
    }
   ],
   "source": [
    "stats.ttest_ind(post_treatment['revenue'], post_control['revenue'])"
   ]
  },
  {
   "cell_type": "code",
   "execution_count": null,
   "id": "eba3e782",
   "metadata": {},
   "outputs": [],
   "source": []
  }
 ],
 "metadata": {
  "kernelspec": {
   "display_name": "venv",
   "language": "python",
   "name": "venv"
  },
  "language_info": {
   "codemirror_mode": {
    "name": "ipython",
    "version": 3
   },
   "file_extension": ".py",
   "mimetype": "text/x-python",
   "name": "python",
   "nbconvert_exporter": "python",
   "pygments_lexer": "ipython3",
   "version": "3.9.5"
  }
 },
 "nbformat": 4,
 "nbformat_minor": 5
}
