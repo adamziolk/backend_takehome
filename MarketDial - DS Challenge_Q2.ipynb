{
 "cells": [
  {
   "cell_type": "code",
   "execution_count": 1,
   "id": "efe89dfd",
   "metadata": {},
   "outputs": [],
   "source": [
    "import numpy as np\n",
    "import pandas as pd\n",
    "import matplotlib.pyplot as plt\n",
    "import seaborn as sns"
   ]
  },
  {
   "cell_type": "markdown",
   "id": "e6658821",
   "metadata": {},
   "source": [
    "# EDA"
   ]
  },
  {
   "cell_type": "code",
   "execution_count": 2,
   "id": "7abcf0ff",
   "metadata": {},
   "outputs": [],
   "source": [
    "products = pd.read_csv(f\"/home/adam/Documents/JobApplications/MarketDial/marketdial_ds_takehome/products_of_interest.csv\", header=None)\n",
    "stores = pd.read_csv(f\"/home/adam/Documents/JobApplications/MarketDial/marketdial_ds_takehome/store_attributes.csv\", usecols=list(range(1, 7)))\n",
    "transactions = pd.read_csv(f\"/home/adam/Documents/JobApplications/MarketDial/marketdial_ds_takehome/transactions.csv\", usecols=list(range(1, 6)))"
   ]
  },
  {
   "cell_type": "markdown",
   "id": "9d88666c",
   "metadata": {},
   "source": [
    "### Stores"
   ]
  },
  {
   "cell_type": "code",
   "execution_count": 3,
   "id": "218d3459",
   "metadata": {},
   "outputs": [
    {
     "data": {
      "text/html": [
       "<div>\n",
       "<style scoped>\n",
       "    .dataframe tbody tr th:only-of-type {\n",
       "        vertical-align: middle;\n",
       "    }\n",
       "\n",
       "    .dataframe tbody tr th {\n",
       "        vertical-align: top;\n",
       "    }\n",
       "\n",
       "    .dataframe thead th {\n",
       "        text-align: right;\n",
       "    }\n",
       "</style>\n",
       "<table border=\"1\" class=\"dataframe\">\n",
       "  <thead>\n",
       "    <tr style=\"text-align: right;\">\n",
       "      <th></th>\n",
       "      <th>store_id</th>\n",
       "      <th>attribute_id</th>\n",
       "      <th>attribute_type</th>\n",
       "      <th>attribute_int_val</th>\n",
       "      <th>attribute_str_val</th>\n",
       "      <th>attribute_float_val</th>\n",
       "    </tr>\n",
       "  </thead>\n",
       "  <tbody>\n",
       "    <tr>\n",
       "      <th>0</th>\n",
       "      <td>631</td>\n",
       "      <td>8</td>\n",
       "      <td>float</td>\n",
       "      <td>NaN</td>\n",
       "      <td>NaN</td>\n",
       "      <td>9447217.69</td>\n",
       "    </tr>\n",
       "    <tr>\n",
       "      <th>1</th>\n",
       "      <td>501</td>\n",
       "      <td>8</td>\n",
       "      <td>float</td>\n",
       "      <td>NaN</td>\n",
       "      <td>NaN</td>\n",
       "      <td>8807968.29</td>\n",
       "    </tr>\n",
       "    <tr>\n",
       "      <th>2</th>\n",
       "      <td>486</td>\n",
       "      <td>8</td>\n",
       "      <td>float</td>\n",
       "      <td>NaN</td>\n",
       "      <td>NaN</td>\n",
       "      <td>4038617.13</td>\n",
       "    </tr>\n",
       "    <tr>\n",
       "      <th>3</th>\n",
       "      <td>392</td>\n",
       "      <td>8</td>\n",
       "      <td>float</td>\n",
       "      <td>NaN</td>\n",
       "      <td>NaN</td>\n",
       "      <td>12222048.62</td>\n",
       "    </tr>\n",
       "    <tr>\n",
       "      <th>4</th>\n",
       "      <td>561</td>\n",
       "      <td>8</td>\n",
       "      <td>float</td>\n",
       "      <td>NaN</td>\n",
       "      <td>NaN</td>\n",
       "      <td>4298550.49</td>\n",
       "    </tr>\n",
       "  </tbody>\n",
       "</table>\n",
       "</div>"
      ],
      "text/plain": [
       "   store_id  attribute_id attribute_type  attribute_int_val attribute_str_val  \\\n",
       "0       631             8          float                NaN               NaN   \n",
       "1       501             8          float                NaN               NaN   \n",
       "2       486             8          float                NaN               NaN   \n",
       "3       392             8          float                NaN               NaN   \n",
       "4       561             8          float                NaN               NaN   \n",
       "\n",
       "   attribute_float_val  \n",
       "0           9447217.69  \n",
       "1           8807968.29  \n",
       "2           4038617.13  \n",
       "3          12222048.62  \n",
       "4           4298550.49  "
      ]
     },
     "execution_count": 3,
     "metadata": {},
     "output_type": "execute_result"
    }
   ],
   "source": [
    "stores.head()"
   ]
  },
  {
   "cell_type": "code",
   "execution_count": 4,
   "id": "7982a54e",
   "metadata": {},
   "outputs": [
    {
     "data": {
      "text/plain": [
       "337"
      ]
     },
     "execution_count": 4,
     "metadata": {},
     "output_type": "execute_result"
    }
   ],
   "source": [
    "stores['store_id'].nunique()"
   ]
  },
  {
   "cell_type": "code",
   "execution_count": 5,
   "id": "afa68990",
   "metadata": {},
   "outputs": [
    {
     "data": {
      "text/plain": [
       "53"
      ]
     },
     "execution_count": 5,
     "metadata": {},
     "output_type": "execute_result"
    }
   ],
   "source": [
    "stores['attribute_id'].nunique()"
   ]
  },
  {
   "cell_type": "code",
   "execution_count": 6,
   "id": "fba2a0ae",
   "metadata": {},
   "outputs": [
    {
     "data": {
      "text/plain": [
       "attribute_type\n",
       "float      47\n",
       "integer     2\n",
       "string      4\n",
       "Name: attribute_id, dtype: int64"
      ]
     },
     "execution_count": 6,
     "metadata": {},
     "output_type": "execute_result"
    }
   ],
   "source": [
    "stores.groupby('attribute_type')['attribute_id'].nunique()"
   ]
  },
  {
   "cell_type": "code",
   "execution_count": 7,
   "id": "aae618a4",
   "metadata": {},
   "outputs": [
    {
     "name": "stdout",
     "output_type": "stream",
     "text": [
      "Strings:  [36 15  9 51]\n"
     ]
    }
   ],
   "source": [
    "string_cols = stores[stores['attribute_type'] == 'string']['attribute_id'].unique()\n",
    "\n",
    "print(\"Strings: \", string_cols)"
   ]
  },
  {
   "cell_type": "code",
   "execution_count": 8,
   "id": "2876b24a",
   "metadata": {},
   "outputs": [
    {
     "name": "stdout",
     "output_type": "stream",
     "text": [
      "store_id               14516\n",
      "attribute_id           14516\n",
      "attribute_type         14516\n",
      "attribute_int_val          0\n",
      "attribute_str_val          0\n",
      "attribute_float_val    14516\n",
      "dtype: int64\n",
      "\n",
      "store_id               674\n",
      "attribute_id           674\n",
      "attribute_type         674\n",
      "attribute_int_val      674\n",
      "attribute_str_val        0\n",
      "attribute_float_val      0\n",
      "dtype: int64\n",
      "\n",
      "store_id               1348\n",
      "attribute_id           1348\n",
      "attribute_type         1348\n",
      "attribute_int_val         0\n",
      "attribute_str_val      1348\n",
      "attribute_float_val       0\n",
      "dtype: int64\n"
     ]
    }
   ],
   "source": [
    "# Check if the data is safe to pivot\n",
    "    # i.e. no mislabeled attributes, missing values, etc\n",
    "\n",
    "print(stores[stores['attribute_type'] == 'float'].count())\n",
    "print()\n",
    "print(stores[stores['attribute_type'] == 'integer'].count())\n",
    "print()\n",
    "print(stores[stores['attribute_type'] == 'string'].count())"
   ]
  },
  {
   "cell_type": "code",
   "execution_count": 9,
   "id": "3de7a5e6",
   "metadata": {},
   "outputs": [],
   "source": [
    "stores['value'] = \\\n",
    "    stores['attribute_int_val'] \\\n",
    "    .combine_first(stores['attribute_str_val']) \\\n",
    "    .combine_first(stores['attribute_float_val'])"
   ]
  },
  {
   "cell_type": "code",
   "execution_count": 10,
   "id": "2a492737",
   "metadata": {},
   "outputs": [
    {
     "data": {
      "text/plain": [
       "store_id               16538\n",
       "attribute_id           16538\n",
       "attribute_type         16538\n",
       "attribute_int_val        674\n",
       "attribute_str_val       1348\n",
       "attribute_float_val    14516\n",
       "value                  16538\n",
       "dtype: int64"
      ]
     },
     "execution_count": 10,
     "metadata": {},
     "output_type": "execute_result"
    }
   ],
   "source": [
    "# Check it worked as expected\n",
    "\n",
    "# stores[stores['attribute_type'] == 'integer']\n",
    "# 674+1348+14516\n",
    "\n",
    "stores.count()"
   ]
  },
  {
   "cell_type": "code",
   "execution_count": 11,
   "id": "8cab1914",
   "metadata": {},
   "outputs": [],
   "source": [
    "# Put stores into a more analysis-friendly format\n",
    "\n",
    "stores = pd.pivot(stores, index='store_id', columns='attribute_id', values='value')"
   ]
  },
  {
   "cell_type": "code",
   "execution_count": 12,
   "id": "02eb45f3",
   "metadata": {},
   "outputs": [
    {
     "data": {
      "text/html": [
       "<div>\n",
       "<style scoped>\n",
       "    .dataframe tbody tr th:only-of-type {\n",
       "        vertical-align: middle;\n",
       "    }\n",
       "\n",
       "    .dataframe tbody tr th {\n",
       "        vertical-align: top;\n",
       "    }\n",
       "\n",
       "    .dataframe thead th {\n",
       "        text-align: right;\n",
       "    }\n",
       "</style>\n",
       "<table border=\"1\" class=\"dataframe\">\n",
       "  <thead>\n",
       "    <tr style=\"text-align: right;\">\n",
       "      <th>attribute_id</th>\n",
       "      <th>1</th>\n",
       "      <th>2</th>\n",
       "      <th>3</th>\n",
       "      <th>4</th>\n",
       "      <th>5</th>\n",
       "      <th>6</th>\n",
       "      <th>7</th>\n",
       "      <th>8</th>\n",
       "      <th>9</th>\n",
       "      <th>10</th>\n",
       "      <th>...</th>\n",
       "      <th>44</th>\n",
       "      <th>45</th>\n",
       "      <th>46</th>\n",
       "      <th>47</th>\n",
       "      <th>48</th>\n",
       "      <th>49</th>\n",
       "      <th>50</th>\n",
       "      <th>51</th>\n",
       "      <th>52</th>\n",
       "      <th>53</th>\n",
       "    </tr>\n",
       "    <tr>\n",
       "      <th>store_id</th>\n",
       "      <th></th>\n",
       "      <th></th>\n",
       "      <th></th>\n",
       "      <th></th>\n",
       "      <th></th>\n",
       "      <th></th>\n",
       "      <th></th>\n",
       "      <th></th>\n",
       "      <th></th>\n",
       "      <th></th>\n",
       "      <th></th>\n",
       "      <th></th>\n",
       "      <th></th>\n",
       "      <th></th>\n",
       "      <th></th>\n",
       "      <th></th>\n",
       "      <th></th>\n",
       "      <th></th>\n",
       "      <th></th>\n",
       "      <th></th>\n",
       "      <th></th>\n",
       "    </tr>\n",
       "  </thead>\n",
       "  <tbody>\n",
       "    <tr>\n",
       "      <th>338</th>\n",
       "      <td>4860.41</td>\n",
       "      <td>0.2087</td>\n",
       "      <td>0.9293</td>\n",
       "      <td>0.1495</td>\n",
       "      <td>NaN</td>\n",
       "      <td>6.0</td>\n",
       "      <td>0.1455</td>\n",
       "      <td>4787174.31</td>\n",
       "      <td>CO</td>\n",
       "      <td>4.3019</td>\n",
       "      <td>...</td>\n",
       "      <td>1.7362</td>\n",
       "      <td>78.8092</td>\n",
       "      <td>9.4235</td>\n",
       "      <td>0.0272</td>\n",
       "      <td>53186.0</td>\n",
       "      <td>0.3234</td>\n",
       "      <td>6.463</td>\n",
       "      <td>CO-AURORA-579</td>\n",
       "      <td>5499.0</td>\n",
       "      <td>NaN</td>\n",
       "    </tr>\n",
       "    <tr>\n",
       "      <th>339</th>\n",
       "      <td>2546.26</td>\n",
       "      <td>0.4454</td>\n",
       "      <td>0.4954</td>\n",
       "      <td>0.2152</td>\n",
       "      <td>0.0147</td>\n",
       "      <td>5.0</td>\n",
       "      <td>0.247</td>\n",
       "      <td>3868819.68</td>\n",
       "      <td>UT</td>\n",
       "      <td>2.0088</td>\n",
       "      <td>...</td>\n",
       "      <td>3.0488</td>\n",
       "      <td>63.6985</td>\n",
       "      <td>1.0423</td>\n",
       "      <td>0.046</td>\n",
       "      <td>22451.0</td>\n",
       "      <td>2.236</td>\n",
       "      <td>3.3932</td>\n",
       "      <td>UT-CEDAR CITY-244</td>\n",
       "      <td>12718.0</td>\n",
       "      <td>NaN</td>\n",
       "    </tr>\n",
       "    <tr>\n",
       "      <th>340</th>\n",
       "      <td>2446.6</td>\n",
       "      <td>1.13</td>\n",
       "      <td>1.0012</td>\n",
       "      <td>0.0001</td>\n",
       "      <td>NaN</td>\n",
       "      <td>22.0</td>\n",
       "      <td>0.1606</td>\n",
       "      <td>1624734.44</td>\n",
       "      <td>UT</td>\n",
       "      <td>2.5842</td>\n",
       "      <td>...</td>\n",
       "      <td>8.9465</td>\n",
       "      <td>NaN</td>\n",
       "      <td>3.091</td>\n",
       "      <td>0.1284</td>\n",
       "      <td>75574.0</td>\n",
       "      <td>1.2107</td>\n",
       "      <td>22.976</td>\n",
       "      <td>UT-SaltLake-539</td>\n",
       "      <td>137251.0</td>\n",
       "      <td>NaN</td>\n",
       "    </tr>\n",
       "    <tr>\n",
       "      <th>341</th>\n",
       "      <td>2526.21</td>\n",
       "      <td>0.17</td>\n",
       "      <td>0.2454</td>\n",
       "      <td>0.2416</td>\n",
       "      <td>NaN</td>\n",
       "      <td>4.0</td>\n",
       "      <td>0.1906</td>\n",
       "      <td>13185248.22</td>\n",
       "      <td>AZ</td>\n",
       "      <td>1.7727</td>\n",
       "      <td>...</td>\n",
       "      <td>2.2278</td>\n",
       "      <td>77.9783</td>\n",
       "      <td>0.4614</td>\n",
       "      <td>0.021</td>\n",
       "      <td>4118.0</td>\n",
       "      <td>3.3511</td>\n",
       "      <td>3.5039</td>\n",
       "      <td>AZ-SHOW LOW-388</td>\n",
       "      <td>3908.0</td>\n",
       "      <td>NaN</td>\n",
       "    </tr>\n",
       "    <tr>\n",
       "      <th>342</th>\n",
       "      <td>2368.64</td>\n",
       "      <td>0.0202</td>\n",
       "      <td>0.4319</td>\n",
       "      <td>0.2248</td>\n",
       "      <td>NaN</td>\n",
       "      <td>5.0</td>\n",
       "      <td>0.1988</td>\n",
       "      <td>7851917.14</td>\n",
       "      <td>OR</td>\n",
       "      <td>2.4074</td>\n",
       "      <td>...</td>\n",
       "      <td>2.4932</td>\n",
       "      <td>71.6176</td>\n",
       "      <td>0.7586</td>\n",
       "      <td>0.0473</td>\n",
       "      <td>9886.0</td>\n",
       "      <td>1.1633</td>\n",
       "      <td>3.7059</td>\n",
       "      <td>OR-BAKER CITY-439</td>\n",
       "      <td>5714.0</td>\n",
       "      <td>NaN</td>\n",
       "    </tr>\n",
       "  </tbody>\n",
       "</table>\n",
       "<p>5 rows × 53 columns</p>\n",
       "</div>"
      ],
      "text/plain": [
       "attribute_id       1       2       3       4       5     6       7   \\\n",
       "store_id                                                              \n",
       "338           4860.41  0.2087  0.9293  0.1495     NaN   6.0  0.1455   \n",
       "339           2546.26  0.4454  0.4954  0.2152  0.0147   5.0   0.247   \n",
       "340            2446.6    1.13  1.0012  0.0001     NaN  22.0  0.1606   \n",
       "341           2526.21    0.17  0.2454  0.2416     NaN   4.0  0.1906   \n",
       "342           2368.64  0.0202  0.4319  0.2248     NaN   5.0  0.1988   \n",
       "\n",
       "attribute_id           8   9       10  ...      44       45      46      47  \\\n",
       "store_id                               ...                                    \n",
       "338            4787174.31  CO  4.3019  ...  1.7362  78.8092  9.4235  0.0272   \n",
       "339            3868819.68  UT  2.0088  ...  3.0488  63.6985  1.0423   0.046   \n",
       "340            1624734.44  UT  2.5842  ...  8.9465      NaN   3.091  0.1284   \n",
       "341           13185248.22  AZ  1.7727  ...  2.2278  77.9783  0.4614   0.021   \n",
       "342            7851917.14  OR  2.4074  ...  2.4932  71.6176  0.7586  0.0473   \n",
       "\n",
       "attribute_id       48      49      50                 51        52   53  \n",
       "store_id                                                                 \n",
       "338           53186.0  0.3234   6.463      CO-AURORA-579    5499.0  NaN  \n",
       "339           22451.0   2.236  3.3932  UT-CEDAR CITY-244   12718.0  NaN  \n",
       "340           75574.0  1.2107  22.976    UT-SaltLake-539  137251.0  NaN  \n",
       "341            4118.0  3.3511  3.5039    AZ-SHOW LOW-388    3908.0  NaN  \n",
       "342            9886.0  1.1633  3.7059  OR-BAKER CITY-439    5714.0  NaN  \n",
       "\n",
       "[5 rows x 53 columns]"
      ]
     },
     "execution_count": 12,
     "metadata": {},
     "output_type": "execute_result"
    }
   ],
   "source": [
    "stores.head()"
   ]
  },
  {
   "cell_type": "code",
   "execution_count": 13,
   "id": "bfd6f1e5",
   "metadata": {},
   "outputs": [
    {
     "name": "stdout",
     "output_type": "stream",
     "text": [
      "Dropping Attributes:  Int64Index([5, 12, 39, 53], dtype='int64', name='attribute_id')\n"
     ]
    }
   ],
   "source": [
    "# Check data availability\n",
    "attribute_pcts = stores.count() / len(stores)\n",
    "attribute_pcts.sort_values()\n",
    "\n",
    "# Drop attributes with <90% data populated (4 attributes)\n",
    "print(\"Dropping Attributes: \", attribute_pcts[attribute_pcts < 0.9].index)\n",
    "stores = stores.drop(attribute_pcts[attribute_pcts < 0.9].index, axis = 1)"
   ]
  },
  {
   "cell_type": "code",
   "execution_count": 14,
   "id": "fee44920",
   "metadata": {},
   "outputs": [
    {
     "data": {
      "text/html": [
       "<div>\n",
       "<style scoped>\n",
       "    .dataframe tbody tr th:only-of-type {\n",
       "        vertical-align: middle;\n",
       "    }\n",
       "\n",
       "    .dataframe tbody tr th {\n",
       "        vertical-align: top;\n",
       "    }\n",
       "\n",
       "    .dataframe thead th {\n",
       "        text-align: right;\n",
       "    }\n",
       "</style>\n",
       "<table border=\"1\" class=\"dataframe\">\n",
       "  <thead>\n",
       "    <tr style=\"text-align: right;\">\n",
       "      <th>attribute_id</th>\n",
       "      <th>1</th>\n",
       "      <th>2</th>\n",
       "      <th>3</th>\n",
       "      <th>4</th>\n",
       "      <th>6</th>\n",
       "      <th>7</th>\n",
       "      <th>8</th>\n",
       "      <th>9</th>\n",
       "      <th>10</th>\n",
       "      <th>11</th>\n",
       "      <th>...</th>\n",
       "      <th>43</th>\n",
       "      <th>44</th>\n",
       "      <th>45</th>\n",
       "      <th>46</th>\n",
       "      <th>47</th>\n",
       "      <th>48</th>\n",
       "      <th>49</th>\n",
       "      <th>50</th>\n",
       "      <th>51</th>\n",
       "      <th>52</th>\n",
       "    </tr>\n",
       "    <tr>\n",
       "      <th>store_id</th>\n",
       "      <th></th>\n",
       "      <th></th>\n",
       "      <th></th>\n",
       "      <th></th>\n",
       "      <th></th>\n",
       "      <th></th>\n",
       "      <th></th>\n",
       "      <th></th>\n",
       "      <th></th>\n",
       "      <th></th>\n",
       "      <th></th>\n",
       "      <th></th>\n",
       "      <th></th>\n",
       "      <th></th>\n",
       "      <th></th>\n",
       "      <th></th>\n",
       "      <th></th>\n",
       "      <th></th>\n",
       "      <th></th>\n",
       "      <th></th>\n",
       "      <th></th>\n",
       "    </tr>\n",
       "  </thead>\n",
       "  <tbody>\n",
       "    <tr>\n",
       "      <th>338</th>\n",
       "      <td>4860.41</td>\n",
       "      <td>0.2087</td>\n",
       "      <td>0.9293</td>\n",
       "      <td>0.1495</td>\n",
       "      <td>6.0</td>\n",
       "      <td>0.1455</td>\n",
       "      <td>4787174.31</td>\n",
       "      <td>CO</td>\n",
       "      <td>4.3019</td>\n",
       "      <td>8.4082</td>\n",
       "      <td>...</td>\n",
       "      <td>-104.7386</td>\n",
       "      <td>1.7362</td>\n",
       "      <td>78.8092</td>\n",
       "      <td>9.4235</td>\n",
       "      <td>0.0272</td>\n",
       "      <td>53186.0</td>\n",
       "      <td>0.3234</td>\n",
       "      <td>6.463</td>\n",
       "      <td>CO-AURORA-579</td>\n",
       "      <td>5499.0</td>\n",
       "    </tr>\n",
       "    <tr>\n",
       "      <th>339</th>\n",
       "      <td>2546.26</td>\n",
       "      <td>0.4454</td>\n",
       "      <td>0.4954</td>\n",
       "      <td>0.2152</td>\n",
       "      <td>5.0</td>\n",
       "      <td>0.247</td>\n",
       "      <td>3868819.68</td>\n",
       "      <td>UT</td>\n",
       "      <td>2.0088</td>\n",
       "      <td>1.0779</td>\n",
       "      <td>...</td>\n",
       "      <td>-113.0741</td>\n",
       "      <td>3.0488</td>\n",
       "      <td>63.6985</td>\n",
       "      <td>1.0423</td>\n",
       "      <td>0.046</td>\n",
       "      <td>22451.0</td>\n",
       "      <td>2.236</td>\n",
       "      <td>3.3932</td>\n",
       "      <td>UT-CEDAR CITY-244</td>\n",
       "      <td>12718.0</td>\n",
       "    </tr>\n",
       "    <tr>\n",
       "      <th>340</th>\n",
       "      <td>2446.6</td>\n",
       "      <td>1.13</td>\n",
       "      <td>1.0012</td>\n",
       "      <td>0.0001</td>\n",
       "      <td>22.0</td>\n",
       "      <td>0.1606</td>\n",
       "      <td>1624734.44</td>\n",
       "      <td>UT</td>\n",
       "      <td>2.5842</td>\n",
       "      <td>5.6805</td>\n",
       "      <td>...</td>\n",
       "      <td>-111.887</td>\n",
       "      <td>8.9465</td>\n",
       "      <td>NaN</td>\n",
       "      <td>3.091</td>\n",
       "      <td>0.1284</td>\n",
       "      <td>75574.0</td>\n",
       "      <td>1.2107</td>\n",
       "      <td>22.976</td>\n",
       "      <td>UT-SaltLake-539</td>\n",
       "      <td>137251.0</td>\n",
       "    </tr>\n",
       "    <tr>\n",
       "      <th>341</th>\n",
       "      <td>2526.21</td>\n",
       "      <td>0.17</td>\n",
       "      <td>0.2454</td>\n",
       "      <td>0.2416</td>\n",
       "      <td>4.0</td>\n",
       "      <td>0.1906</td>\n",
       "      <td>13185248.22</td>\n",
       "      <td>AZ</td>\n",
       "      <td>1.7727</td>\n",
       "      <td>1.5542</td>\n",
       "      <td>...</td>\n",
       "      <td>-110.0182</td>\n",
       "      <td>2.2278</td>\n",
       "      <td>77.9783</td>\n",
       "      <td>0.4614</td>\n",
       "      <td>0.021</td>\n",
       "      <td>4118.0</td>\n",
       "      <td>3.3511</td>\n",
       "      <td>3.5039</td>\n",
       "      <td>AZ-SHOW LOW-388</td>\n",
       "      <td>3908.0</td>\n",
       "    </tr>\n",
       "    <tr>\n",
       "      <th>342</th>\n",
       "      <td>2368.64</td>\n",
       "      <td>0.0202</td>\n",
       "      <td>0.4319</td>\n",
       "      <td>0.2248</td>\n",
       "      <td>5.0</td>\n",
       "      <td>0.1988</td>\n",
       "      <td>7851917.14</td>\n",
       "      <td>OR</td>\n",
       "      <td>2.4074</td>\n",
       "      <td>0.8598</td>\n",
       "      <td>...</td>\n",
       "      <td>-117.8227</td>\n",
       "      <td>2.4932</td>\n",
       "      <td>71.6176</td>\n",
       "      <td>0.7586</td>\n",
       "      <td>0.0473</td>\n",
       "      <td>9886.0</td>\n",
       "      <td>1.1633</td>\n",
       "      <td>3.7059</td>\n",
       "      <td>OR-BAKER CITY-439</td>\n",
       "      <td>5714.0</td>\n",
       "    </tr>\n",
       "  </tbody>\n",
       "</table>\n",
       "<p>5 rows × 49 columns</p>\n",
       "</div>"
      ],
      "text/plain": [
       "attribute_id       1       2       3       4     6       7            8   9   \\\n",
       "store_id                                                                       \n",
       "338           4860.41  0.2087  0.9293  0.1495   6.0  0.1455   4787174.31  CO   \n",
       "339           2546.26  0.4454  0.4954  0.2152   5.0   0.247   3868819.68  UT   \n",
       "340            2446.6    1.13  1.0012  0.0001  22.0  0.1606   1624734.44  UT   \n",
       "341           2526.21    0.17  0.2454  0.2416   4.0  0.1906  13185248.22  AZ   \n",
       "342           2368.64  0.0202  0.4319  0.2248   5.0  0.1988   7851917.14  OR   \n",
       "\n",
       "attribute_id      10      11  ...        43      44       45      46      47  \\\n",
       "store_id                      ...                                              \n",
       "338           4.3019  8.4082  ... -104.7386  1.7362  78.8092  9.4235  0.0272   \n",
       "339           2.0088  1.0779  ... -113.0741  3.0488  63.6985  1.0423   0.046   \n",
       "340           2.5842  5.6805  ...  -111.887  8.9465      NaN   3.091  0.1284   \n",
       "341           1.7727  1.5542  ... -110.0182  2.2278  77.9783  0.4614   0.021   \n",
       "342           2.4074  0.8598  ... -117.8227  2.4932  71.6176  0.7586  0.0473   \n",
       "\n",
       "attribute_id       48      49      50                 51        52  \n",
       "store_id                                                            \n",
       "338           53186.0  0.3234   6.463      CO-AURORA-579    5499.0  \n",
       "339           22451.0   2.236  3.3932  UT-CEDAR CITY-244   12718.0  \n",
       "340           75574.0  1.2107  22.976    UT-SaltLake-539  137251.0  \n",
       "341            4118.0  3.3511  3.5039    AZ-SHOW LOW-388    3908.0  \n",
       "342            9886.0  1.1633  3.7059  OR-BAKER CITY-439    5714.0  \n",
       "\n",
       "[5 rows x 49 columns]"
      ]
     },
     "execution_count": 14,
     "metadata": {},
     "output_type": "execute_result"
    }
   ],
   "source": [
    "stores.head()"
   ]
  },
  {
   "cell_type": "markdown",
   "id": "0bd5d50c",
   "metadata": {},
   "source": [
    "##### Impute Missing Data + Transformations"
   ]
  },
  {
   "cell_type": "code",
   "execution_count": 15,
   "id": "08667aff",
   "metadata": {},
   "outputs": [],
   "source": [
    "# There is no missing data for the string columns...thank you\n",
    "\n",
    "numeric_cols = [col for col in stores.columns if col not in string_cols]\n",
    "\n",
    "stores[numeric_cols] = stores[numeric_cols].apply(pd.to_numeric)\n",
    "stores[numeric_cols] = stores[numeric_cols].fillna(stores[numeric_cols].median())"
   ]
  },
  {
   "cell_type": "code",
   "execution_count": 16,
   "id": "9fb74da4",
   "metadata": {},
   "outputs": [],
   "source": [
    "# Attribute 51 is unique for each store - dropped to allow for dummy variables\n",
    "\n",
    "stores[string_cols[3]].nunique()\n",
    "\n",
    "stores.drop(columns = string_cols[3], inplace = True)\n",
    "string_cols = np.delete(string_cols, 3)"
   ]
  },
  {
   "cell_type": "code",
   "execution_count": 17,
   "id": "f382abaa",
   "metadata": {},
   "outputs": [],
   "source": [
    "# Dummy code strings/categories\n",
    "stores_with_dummies = pd.get_dummies(stores)"
   ]
  },
  {
   "cell_type": "code",
   "execution_count": 18,
   "id": "4de331ce",
   "metadata": {},
   "outputs": [
    {
     "data": {
      "text/html": [
       "<div>\n",
       "<style scoped>\n",
       "    .dataframe tbody tr th:only-of-type {\n",
       "        vertical-align: middle;\n",
       "    }\n",
       "\n",
       "    .dataframe tbody tr th {\n",
       "        vertical-align: top;\n",
       "    }\n",
       "\n",
       "    .dataframe thead th {\n",
       "        text-align: right;\n",
       "    }\n",
       "</style>\n",
       "<table border=\"1\" class=\"dataframe\">\n",
       "  <thead>\n",
       "    <tr style=\"text-align: right;\">\n",
       "      <th></th>\n",
       "      <th>1</th>\n",
       "      <th>2</th>\n",
       "      <th>3</th>\n",
       "      <th>4</th>\n",
       "      <th>6</th>\n",
       "      <th>7</th>\n",
       "      <th>8</th>\n",
       "      <th>10</th>\n",
       "      <th>11</th>\n",
       "      <th>13</th>\n",
       "      <th>...</th>\n",
       "      <th>9_WY</th>\n",
       "      <th>15_Big Snow</th>\n",
       "      <th>15_Canyon</th>\n",
       "      <th>15_New &amp; Closed Stores</th>\n",
       "      <th>15_Red Rock</th>\n",
       "      <th>15_White Water</th>\n",
       "      <th>36_ADVENTURE</th>\n",
       "      <th>36_ADVENTURE BTO</th>\n",
       "      <th>36_COUNTRY</th>\n",
       "      <th>36_Unknown</th>\n",
       "    </tr>\n",
       "    <tr>\n",
       "      <th>store_id</th>\n",
       "      <th></th>\n",
       "      <th></th>\n",
       "      <th></th>\n",
       "      <th></th>\n",
       "      <th></th>\n",
       "      <th></th>\n",
       "      <th></th>\n",
       "      <th></th>\n",
       "      <th></th>\n",
       "      <th></th>\n",
       "      <th></th>\n",
       "      <th></th>\n",
       "      <th></th>\n",
       "      <th></th>\n",
       "      <th></th>\n",
       "      <th></th>\n",
       "      <th></th>\n",
       "      <th></th>\n",
       "      <th></th>\n",
       "      <th></th>\n",
       "      <th></th>\n",
       "    </tr>\n",
       "  </thead>\n",
       "  <tbody>\n",
       "    <tr>\n",
       "      <th>338</th>\n",
       "      <td>4860.41</td>\n",
       "      <td>0.2087</td>\n",
       "      <td>0.9293</td>\n",
       "      <td>0.1495</td>\n",
       "      <td>6.0</td>\n",
       "      <td>0.1455</td>\n",
       "      <td>4787174.31</td>\n",
       "      <td>4.3019</td>\n",
       "      <td>8.4082</td>\n",
       "      <td>4.76</td>\n",
       "      <td>...</td>\n",
       "      <td>0</td>\n",
       "      <td>0</td>\n",
       "      <td>0</td>\n",
       "      <td>0</td>\n",
       "      <td>1</td>\n",
       "      <td>0</td>\n",
       "      <td>1</td>\n",
       "      <td>0</td>\n",
       "      <td>0</td>\n",
       "      <td>0</td>\n",
       "    </tr>\n",
       "    <tr>\n",
       "      <th>339</th>\n",
       "      <td>2546.26</td>\n",
       "      <td>0.4454</td>\n",
       "      <td>0.4954</td>\n",
       "      <td>0.2152</td>\n",
       "      <td>5.0</td>\n",
       "      <td>0.2470</td>\n",
       "      <td>3868819.68</td>\n",
       "      <td>2.0088</td>\n",
       "      <td>1.0779</td>\n",
       "      <td>10.27</td>\n",
       "      <td>...</td>\n",
       "      <td>0</td>\n",
       "      <td>0</td>\n",
       "      <td>0</td>\n",
       "      <td>0</td>\n",
       "      <td>1</td>\n",
       "      <td>0</td>\n",
       "      <td>0</td>\n",
       "      <td>0</td>\n",
       "      <td>1</td>\n",
       "      <td>0</td>\n",
       "    </tr>\n",
       "    <tr>\n",
       "      <th>340</th>\n",
       "      <td>2446.60</td>\n",
       "      <td>1.1300</td>\n",
       "      <td>1.0012</td>\n",
       "      <td>0.0001</td>\n",
       "      <td>22.0</td>\n",
       "      <td>0.1606</td>\n",
       "      <td>1624734.44</td>\n",
       "      <td>2.5842</td>\n",
       "      <td>5.6805</td>\n",
       "      <td>10.36</td>\n",
       "      <td>...</td>\n",
       "      <td>0</td>\n",
       "      <td>0</td>\n",
       "      <td>1</td>\n",
       "      <td>0</td>\n",
       "      <td>0</td>\n",
       "      <td>0</td>\n",
       "      <td>0</td>\n",
       "      <td>1</td>\n",
       "      <td>0</td>\n",
       "      <td>0</td>\n",
       "    </tr>\n",
       "    <tr>\n",
       "      <th>341</th>\n",
       "      <td>2526.21</td>\n",
       "      <td>0.1700</td>\n",
       "      <td>0.2454</td>\n",
       "      <td>0.2416</td>\n",
       "      <td>4.0</td>\n",
       "      <td>0.1906</td>\n",
       "      <td>13185248.22</td>\n",
       "      <td>1.7727</td>\n",
       "      <td>1.5542</td>\n",
       "      <td>17.83</td>\n",
       "      <td>...</td>\n",
       "      <td>0</td>\n",
       "      <td>0</td>\n",
       "      <td>0</td>\n",
       "      <td>0</td>\n",
       "      <td>1</td>\n",
       "      <td>0</td>\n",
       "      <td>1</td>\n",
       "      <td>0</td>\n",
       "      <td>0</td>\n",
       "      <td>0</td>\n",
       "    </tr>\n",
       "    <tr>\n",
       "      <th>342</th>\n",
       "      <td>2368.64</td>\n",
       "      <td>0.0202</td>\n",
       "      <td>0.4319</td>\n",
       "      <td>0.2248</td>\n",
       "      <td>5.0</td>\n",
       "      <td>0.1988</td>\n",
       "      <td>7851917.14</td>\n",
       "      <td>2.4074</td>\n",
       "      <td>0.8598</td>\n",
       "      <td>22.97</td>\n",
       "      <td>...</td>\n",
       "      <td>0</td>\n",
       "      <td>0</td>\n",
       "      <td>0</td>\n",
       "      <td>0</td>\n",
       "      <td>0</td>\n",
       "      <td>1</td>\n",
       "      <td>1</td>\n",
       "      <td>0</td>\n",
       "      <td>0</td>\n",
       "      <td>0</td>\n",
       "    </tr>\n",
       "    <tr>\n",
       "      <th>...</th>\n",
       "      <td>...</td>\n",
       "      <td>...</td>\n",
       "      <td>...</td>\n",
       "      <td>...</td>\n",
       "      <td>...</td>\n",
       "      <td>...</td>\n",
       "      <td>...</td>\n",
       "      <td>...</td>\n",
       "      <td>...</td>\n",
       "      <td>...</td>\n",
       "      <td>...</td>\n",
       "      <td>...</td>\n",
       "      <td>...</td>\n",
       "      <td>...</td>\n",
       "      <td>...</td>\n",
       "      <td>...</td>\n",
       "      <td>...</td>\n",
       "      <td>...</td>\n",
       "      <td>...</td>\n",
       "      <td>...</td>\n",
       "      <td>...</td>\n",
       "    </tr>\n",
       "    <tr>\n",
       "      <th>671</th>\n",
       "      <td>3941.84</td>\n",
       "      <td>0.0120</td>\n",
       "      <td>0.6811</td>\n",
       "      <td>0.3910</td>\n",
       "      <td>1.0</td>\n",
       "      <td>0.2395</td>\n",
       "      <td>1795826.69</td>\n",
       "      <td>1.8663</td>\n",
       "      <td>1.2920</td>\n",
       "      <td>16.48</td>\n",
       "      <td>...</td>\n",
       "      <td>0</td>\n",
       "      <td>0</td>\n",
       "      <td>0</td>\n",
       "      <td>0</td>\n",
       "      <td>1</td>\n",
       "      <td>0</td>\n",
       "      <td>0</td>\n",
       "      <td>0</td>\n",
       "      <td>0</td>\n",
       "      <td>1</td>\n",
       "    </tr>\n",
       "    <tr>\n",
       "      <th>672</th>\n",
       "      <td>3646.54</td>\n",
       "      <td>0.6696</td>\n",
       "      <td>0.3849</td>\n",
       "      <td>0.2570</td>\n",
       "      <td>5.0</td>\n",
       "      <td>0.2452</td>\n",
       "      <td>2871680.23</td>\n",
       "      <td>1.8750</td>\n",
       "      <td>3.2774</td>\n",
       "      <td>12.25</td>\n",
       "      <td>...</td>\n",
       "      <td>0</td>\n",
       "      <td>0</td>\n",
       "      <td>1</td>\n",
       "      <td>0</td>\n",
       "      <td>0</td>\n",
       "      <td>0</td>\n",
       "      <td>0</td>\n",
       "      <td>0</td>\n",
       "      <td>1</td>\n",
       "      <td>0</td>\n",
       "    </tr>\n",
       "    <tr>\n",
       "      <th>673</th>\n",
       "      <td>4031.09</td>\n",
       "      <td>0.1394</td>\n",
       "      <td>0.4460</td>\n",
       "      <td>0.1990</td>\n",
       "      <td>1.0</td>\n",
       "      <td>0.2606</td>\n",
       "      <td>13600550.57</td>\n",
       "      <td>1.8127</td>\n",
       "      <td>0.6757</td>\n",
       "      <td>17.01</td>\n",
       "      <td>...</td>\n",
       "      <td>0</td>\n",
       "      <td>0</td>\n",
       "      <td>0</td>\n",
       "      <td>0</td>\n",
       "      <td>0</td>\n",
       "      <td>1</td>\n",
       "      <td>1</td>\n",
       "      <td>0</td>\n",
       "      <td>0</td>\n",
       "      <td>0</td>\n",
       "    </tr>\n",
       "    <tr>\n",
       "      <th>674</th>\n",
       "      <td>3388.43</td>\n",
       "      <td>0.0438</td>\n",
       "      <td>0.2707</td>\n",
       "      <td>0.3278</td>\n",
       "      <td>2.0</td>\n",
       "      <td>0.2660</td>\n",
       "      <td>14163749.81</td>\n",
       "      <td>5.0328</td>\n",
       "      <td>1.0941</td>\n",
       "      <td>11.32</td>\n",
       "      <td>...</td>\n",
       "      <td>0</td>\n",
       "      <td>0</td>\n",
       "      <td>0</td>\n",
       "      <td>0</td>\n",
       "      <td>1</td>\n",
       "      <td>0</td>\n",
       "      <td>1</td>\n",
       "      <td>0</td>\n",
       "      <td>0</td>\n",
       "      <td>0</td>\n",
       "    </tr>\n",
       "    <tr>\n",
       "      <th>675</th>\n",
       "      <td>2939.94</td>\n",
       "      <td>0.2402</td>\n",
       "      <td>0.3588</td>\n",
       "      <td>0.2465</td>\n",
       "      <td>7.0</td>\n",
       "      <td>0.2459</td>\n",
       "      <td>13858001.05</td>\n",
       "      <td>2.3510</td>\n",
       "      <td>0.8822</td>\n",
       "      <td>15.17</td>\n",
       "      <td>...</td>\n",
       "      <td>0</td>\n",
       "      <td>0</td>\n",
       "      <td>0</td>\n",
       "      <td>0</td>\n",
       "      <td>0</td>\n",
       "      <td>1</td>\n",
       "      <td>1</td>\n",
       "      <td>0</td>\n",
       "      <td>0</td>\n",
       "      <td>0</td>\n",
       "    </tr>\n",
       "  </tbody>\n",
       "</table>\n",
       "<p>337 rows × 65 columns</p>\n",
       "</div>"
      ],
      "text/plain": [
       "                1       2       3       4     6       7            8      10  \\\n",
       "store_id                                                                       \n",
       "338       4860.41  0.2087  0.9293  0.1495   6.0  0.1455   4787174.31  4.3019   \n",
       "339       2546.26  0.4454  0.4954  0.2152   5.0  0.2470   3868819.68  2.0088   \n",
       "340       2446.60  1.1300  1.0012  0.0001  22.0  0.1606   1624734.44  2.5842   \n",
       "341       2526.21  0.1700  0.2454  0.2416   4.0  0.1906  13185248.22  1.7727   \n",
       "342       2368.64  0.0202  0.4319  0.2248   5.0  0.1988   7851917.14  2.4074   \n",
       "...           ...     ...     ...     ...   ...     ...          ...     ...   \n",
       "671       3941.84  0.0120  0.6811  0.3910   1.0  0.2395   1795826.69  1.8663   \n",
       "672       3646.54  0.6696  0.3849  0.2570   5.0  0.2452   2871680.23  1.8750   \n",
       "673       4031.09  0.1394  0.4460  0.1990   1.0  0.2606  13600550.57  1.8127   \n",
       "674       3388.43  0.0438  0.2707  0.3278   2.0  0.2660  14163749.81  5.0328   \n",
       "675       2939.94  0.2402  0.3588  0.2465   7.0  0.2459  13858001.05  2.3510   \n",
       "\n",
       "              11     13  ...  9_WY  15_Big Snow  15_Canyon  \\\n",
       "store_id                 ...                                 \n",
       "338       8.4082   4.76  ...     0            0          0   \n",
       "339       1.0779  10.27  ...     0            0          0   \n",
       "340       5.6805  10.36  ...     0            0          1   \n",
       "341       1.5542  17.83  ...     0            0          0   \n",
       "342       0.8598  22.97  ...     0            0          0   \n",
       "...          ...    ...  ...   ...          ...        ...   \n",
       "671       1.2920  16.48  ...     0            0          0   \n",
       "672       3.2774  12.25  ...     0            0          1   \n",
       "673       0.6757  17.01  ...     0            0          0   \n",
       "674       1.0941  11.32  ...     0            0          0   \n",
       "675       0.8822  15.17  ...     0            0          0   \n",
       "\n",
       "          15_New & Closed Stores  15_Red Rock  15_White Water  36_ADVENTURE   \\\n",
       "store_id                                                                       \n",
       "338                            0            1               0              1   \n",
       "339                            0            1               0              0   \n",
       "340                            0            0               0              0   \n",
       "341                            0            1               0              1   \n",
       "342                            0            0               1              1   \n",
       "...                          ...          ...             ...            ...   \n",
       "671                            0            1               0              0   \n",
       "672                            0            0               0              0   \n",
       "673                            0            0               1              1   \n",
       "674                            0            1               0              1   \n",
       "675                            0            0               1              1   \n",
       "\n",
       "          36_ADVENTURE BTO  36_COUNTRY  36_Unknown  \n",
       "store_id                                            \n",
       "338                      0           0           0  \n",
       "339                      0           1           0  \n",
       "340                      1           0           0  \n",
       "341                      0           0           0  \n",
       "342                      0           0           0  \n",
       "...                    ...         ...         ...  \n",
       "671                      0           0           1  \n",
       "672                      0           1           0  \n",
       "673                      0           0           0  \n",
       "674                      0           0           0  \n",
       "675                      0           0           0  \n",
       "\n",
       "[337 rows x 65 columns]"
      ]
     },
     "execution_count": 18,
     "metadata": {},
     "output_type": "execute_result"
    }
   ],
   "source": [
    "stores_with_dummies"
   ]
  },
  {
   "cell_type": "markdown",
   "id": "442ca412",
   "metadata": {},
   "source": [
    "##### Scaling"
   ]
  },
  {
   "cell_type": "code",
   "execution_count": 19,
   "id": "a4b8cb06",
   "metadata": {},
   "outputs": [],
   "source": [
    "from sklearn.preprocessing import StandardScaler\n",
    "\n",
    "scaler = StandardScaler()\n",
    "scaled_data = scaler.fit_transform(stores_with_dummies)"
   ]
  },
  {
   "cell_type": "markdown",
   "id": "8f7e046e",
   "metadata": {},
   "source": [
    "##### Dimensionality Reduction"
   ]
  },
  {
   "cell_type": "code",
   "execution_count": 20,
   "id": "3fcaae2b",
   "metadata": {},
   "outputs": [],
   "source": [
    "from sklearn.decomposition import PCA\n",
    "\n",
    "# pca = PCA(n_components=0.95) # Retain 95% of variance\n",
    "# reduced_data = pca.fit_transform(scaled_data) # This yields 34 components\n",
    "\n",
    "pca = PCA()\n",
    "pca.fit(scaled_data)\n",
    "cumsum = np.cumsum(pca.explained_variance_ratio_)"
   ]
  },
  {
   "cell_type": "code",
   "execution_count": 21,
   "id": "e356f0c0",
   "metadata": {},
   "outputs": [
    {
     "name": "stdout",
     "output_type": "stream",
     "text": [
      "Retaining 20 components preserves 0.8534227353461183 variance\n"
     ]
    },
    {
     "data": {
      "image/png": "[encoded data removed]",
      "text/plain": [
       "<Figure size 432x288 with 1 Axes>"
      ]
     },
     "metadata": {
      "needs_background": "light"
     },
     "output_type": "display_data"
    }
   ],
   "source": [
    "plt.plot(cumsum)\n",
    "\n",
    "n_components = 20\n",
    "print(f'Retaining {n_components} components preserves {cumsum[n_components]} variance')"
   ]
  },
  {
   "cell_type": "code",
   "execution_count": 22,
   "id": "cc30622d",
   "metadata": {},
   "outputs": [
    {
     "data": {
      "text/plain": [
       "(337, 20)"
      ]
     },
     "execution_count": 22,
     "metadata": {},
     "output_type": "execute_result"
    }
   ],
   "source": [
    "reduced_data = PCA(n_components=n_components).fit_transform(scaled_data)\n",
    "reduced_data.shape"
   ]
  },
  {
   "cell_type": "markdown",
   "id": "809ea291",
   "metadata": {},
   "source": [
    "##### Initial Clustering"
   ]
  },
  {
   "cell_type": "code",
   "execution_count": 23,
   "id": "52c539da",
   "metadata": {},
   "outputs": [
    {
     "name": "stdout",
     "output_type": "stream",
     "text": [
      "Running -  5\n",
      "Running -  10\n",
      "Running -  15\n",
      "Running -  20\n",
      "Running -  25\n",
      "Running -  30\n",
      "Running -  35\n",
      "Running -  40\n",
      "Running -  45\n",
      "Running -  50\n",
      "Running -  55\n",
      "Running -  60\n",
      "Running -  65\n",
      "Running -  70\n",
      "Running -  75\n",
      "Running -  80\n",
      "Running -  85\n",
      "Running -  90\n",
      "Running -  95\n"
     ]
    },
    {
     "data": {
      "text/plain": [
       "[<matplotlib.lines.Line2D at 0x7f3ba83d9520>]"
      ]
     },
     "execution_count": 23,
     "metadata": {},
     "output_type": "execute_result"
    },
    {
     "data": {
      "image/png": "[encoded data removed]",
      "text/plain": [
       "<Figure size 432x288 with 1 Axes>"
      ]
     },
     "metadata": {
      "needs_background": "light"
     },
     "output_type": "display_data"
    }
   ],
   "source": [
    "from sklearn.cluster import KMeans\n",
    "from sklearn.preprocessing import StandardScaler\n",
    "\n",
    "### Prep Work\n",
    "wcss = []\n",
    "\n",
    "### Use Elbow method to identify natural clusters\n",
    "for i in range(5, 100, 5):\n",
    "    print('Running - ', i)\n",
    "    kmeans = KMeans(n_clusters = i, init = 'k-means++', max_iter = 400, n_init = 10, random_state = 0)\n",
    "    kmeans.fit(reduced_data)\n",
    "    wcss.append(kmeans.inertia_)\n",
    "\n",
    "plt.plot(range(5, 100, 5), wcss, linestyle=\"none\", marker='o')\n"
   ]
  },
  {
   "cell_type": "code",
   "execution_count": 24,
   "id": "e8b9bec1",
   "metadata": {},
   "outputs": [],
   "source": [
    "from sklearn.manifold import TSNE\n",
    "\n",
    "# Tested various perplexity values between 5-50.  Lower values give generally better results\n",
    "    # It is a proxy value for the number of nearest neighbors.  The dataset is small, so small values work better\n",
    "tsne_data = TSNE(n_components=2, init='random', perplexity=15).fit_transform(reduced_data)"
   ]
  },
  {
   "cell_type": "code",
   "execution_count": 25,
   "id": "579490c9",
   "metadata": {},
   "outputs": [
    {
     "data": {
      "text/plain": [
       "[<matplotlib.lines.Line2D at 0x7f3b9d409ee0>]"
      ]
     },
     "execution_count": 25,
     "metadata": {},
     "output_type": "execute_result"
    },
    {
     "data": {
      "image/png": "[encoded data removed]",
      "text/plain": [
       "<Figure size 432x288 with 1 Axes>"
      ]
     },
     "metadata": {
      "needs_background": "light"
     },
     "output_type": "display_data"
    }
   ],
   "source": [
    "# Rerunning multiple times yields ~9 to 11 clusters\n",
    "plt.plot(tsne_data[:, 0], tsne_data[:, 1], linestyle=\"none\", marker=\"o\")"
   ]
  },
  {
   "cell_type": "markdown",
   "id": "9dcc6518",
   "metadata": {},
   "source": [
    "##### Tuning DBSCAN"
   ]
  },
  {
   "cell_type": "code",
   "execution_count": 26,
   "id": "97055f2e",
   "metadata": {},
   "outputs": [
    {
     "data": {
      "text/plain": [
       "[<matplotlib.lines.Line2D at 0x7f3ba887c880>]"
      ]
     },
     "execution_count": 26,
     "metadata": {},
     "output_type": "execute_result"
    },
    {
     "data": {
      "image/png": "[encoded data removed]",
      "text/plain": [
       "<Figure size 432x288 with 1 Axes>"
      ]
     },
     "metadata": {
      "needs_background": "light"
     },
     "output_type": "display_data"
    }
   ],
   "source": [
    "from sklearn.neighbors import NearestNeighbors\n",
    "\n",
    "neighbors = 5\n",
    "neigh = NearestNeighbors(n_neighbors = neighbors, n_jobs = -1)\n",
    "nbrs = neigh.fit(reduced_data)\n",
    "distances, indicies = nbrs.kneighbors(reduced_data)\n",
    "\n",
    "distances = np.sort(distances, axis = 0)\n",
    "distances = distances[:, 1]\n",
    "plt.plot(distances)\n",
    "\n",
    "# Y axis is a proxy for the eps value (max distance between points in a cluster)"
   ]
  },
  {
   "cell_type": "code",
   "execution_count": 27,
   "id": "baf9eb0e",
   "metadata": {},
   "outputs": [
    {
     "data": {
      "text/plain": [
       "DBSCAN(eps=3.5)"
      ]
     },
     "execution_count": 27,
     "metadata": {},
     "output_type": "execute_result"
    }
   ],
   "source": [
    "from sklearn.cluster import DBSCAN\n",
    "\n",
    "# dbsc = DBSCAN(eps=4, min_samples=5) # Good\n",
    "# dbsc = DBSCAN(eps=3.5, min_samples=5) # Very Good\n",
    "dbsc = DBSCAN(eps=3.5, min_samples=5)\n",
    "dbsc.fit(reduced_data)"
   ]
  },
  {
   "cell_type": "code",
   "execution_count": 28,
   "id": "e04c25da",
   "metadata": {},
   "outputs": [
    {
     "data": {
      "text/plain": [
       "array([[ -1, 145],\n",
       "       [  0,   9],\n",
       "       [  1,  13],\n",
       "       [  2,  82],\n",
       "       [  3,   8],\n",
       "       [  4,   7],\n",
       "       [  5,  33],\n",
       "       [  6,   7],\n",
       "       [  7,   7],\n",
       "       [  8,  16],\n",
       "       [  9,   5],\n",
       "       [ 10,   5]])"
      ]
     },
     "execution_count": 28,
     "metadata": {},
     "output_type": "execute_result"
    }
   ],
   "source": [
    "labels_check = dbsc.labels_\n",
    "(val, count) = np.unique(labels_check, return_counts=True)\n",
    "np.asarray((val, count)).T"
   ]
  },
  {
   "cell_type": "markdown",
   "id": "c5da61c5",
   "metadata": {},
   "source": [
    "##### Sanity Check Labels"
   ]
  },
  {
   "cell_type": "code",
   "execution_count": 29,
   "id": "d107582f",
   "metadata": {},
   "outputs": [
    {
     "data": {
      "text/plain": [
       "<seaborn.axisgrid.FacetGrid at 0x7f3bac4a9c70>"
      ]
     },
     "execution_count": 29,
     "metadata": {},
     "output_type": "execute_result"
    },
    {
     "data": {
      "image/png": "[encoded data removed]",
      "text/plain": [
       "<Figure size 408.625x360 with 1 Axes>"
      ]
     },
     "metadata": {
      "needs_background": "light"
     },
     "output_type": "display_data"
    }
   ],
   "source": [
    "tsne_df = pd.DataFrame(tsne_data, columns = ['1', '2'])\n",
    "tsne_df['label'] = dbsc.labels_\n",
    "sns.lmplot(x='1', y='2', data=tsne_df, hue='label', fit_reg=False)"
   ]
  },
  {
   "cell_type": "markdown",
   "id": "d010c1e7",
   "metadata": {},
   "source": [
    "##### Divide Stores"
   ]
  },
  {
   "cell_type": "code",
   "execution_count": 30,
   "id": "676afac1",
   "metadata": {},
   "outputs": [
    {
     "data": {
      "text/html": [
       "<div>\n",
       "<style scoped>\n",
       "    .dataframe tbody tr th:only-of-type {\n",
       "        vertical-align: middle;\n",
       "    }\n",
       "\n",
       "    .dataframe tbody tr th {\n",
       "        vertical-align: top;\n",
       "    }\n",
       "\n",
       "    .dataframe thead th {\n",
       "        text-align: right;\n",
       "    }\n",
       "</style>\n",
       "<table border=\"1\" class=\"dataframe\">\n",
       "  <thead>\n",
       "    <tr style=\"text-align: right;\">\n",
       "      <th></th>\n",
       "      <th>label</th>\n",
       "    </tr>\n",
       "    <tr>\n",
       "      <th>store_id</th>\n",
       "      <th></th>\n",
       "    </tr>\n",
       "  </thead>\n",
       "  <tbody>\n",
       "    <tr>\n",
       "      <th>338</th>\n",
       "      <td>-1</td>\n",
       "    </tr>\n",
       "    <tr>\n",
       "      <th>339</th>\n",
       "      <td>0</td>\n",
       "    </tr>\n",
       "    <tr>\n",
       "      <th>340</th>\n",
       "      <td>-1</td>\n",
       "    </tr>\n",
       "    <tr>\n",
       "      <th>341</th>\n",
       "      <td>1</td>\n",
       "    </tr>\n",
       "    <tr>\n",
       "      <th>342</th>\n",
       "      <td>-1</td>\n",
       "    </tr>\n",
       "    <tr>\n",
       "      <th>...</th>\n",
       "      <td>...</td>\n",
       "    </tr>\n",
       "    <tr>\n",
       "      <th>671</th>\n",
       "      <td>-1</td>\n",
       "    </tr>\n",
       "    <tr>\n",
       "      <th>672</th>\n",
       "      <td>2</td>\n",
       "    </tr>\n",
       "    <tr>\n",
       "      <th>673</th>\n",
       "      <td>-1</td>\n",
       "    </tr>\n",
       "    <tr>\n",
       "      <th>674</th>\n",
       "      <td>-1</td>\n",
       "    </tr>\n",
       "    <tr>\n",
       "      <th>675</th>\n",
       "      <td>5</td>\n",
       "    </tr>\n",
       "  </tbody>\n",
       "</table>\n",
       "<p>337 rows × 1 columns</p>\n",
       "</div>"
      ],
      "text/plain": [
       "          label\n",
       "store_id       \n",
       "338          -1\n",
       "339           0\n",
       "340          -1\n",
       "341           1\n",
       "342          -1\n",
       "...         ...\n",
       "671          -1\n",
       "672           2\n",
       "673          -1\n",
       "674          -1\n",
       "675           5\n",
       "\n",
       "[337 rows x 1 columns]"
      ]
     },
     "execution_count": 30,
     "metadata": {},
     "output_type": "execute_result"
    }
   ],
   "source": [
    "store_labels = pd.DataFrame(index=stores_with_dummies.index, data = dbsc.labels_, columns=[\"label\"])\n",
    "store_labels"
   ]
  },
  {
   "cell_type": "code",
   "execution_count": 31,
   "id": "52067c9c",
   "metadata": {},
   "outputs": [
    {
     "data": {
      "text/html": [
       "<div>\n",
       "<style scoped>\n",
       "    .dataframe tbody tr th:only-of-type {\n",
       "        vertical-align: middle;\n",
       "    }\n",
       "\n",
       "    .dataframe tbody tr th {\n",
       "        vertical-align: top;\n",
       "    }\n",
       "\n",
       "    .dataframe thead th {\n",
       "        text-align: right;\n",
       "    }\n",
       "</style>\n",
       "<table border=\"1\" class=\"dataframe\">\n",
       "  <thead>\n",
       "    <tr style=\"text-align: right;\">\n",
       "      <th></th>\n",
       "      <th>label</th>\n",
       "    </tr>\n",
       "    <tr>\n",
       "      <th>store_id</th>\n",
       "      <th></th>\n",
       "    </tr>\n",
       "  </thead>\n",
       "  <tbody>\n",
       "    <tr>\n",
       "      <th>348</th>\n",
       "      <td>3</td>\n",
       "    </tr>\n",
       "    <tr>\n",
       "      <th>354</th>\n",
       "      <td>3</td>\n",
       "    </tr>\n",
       "    <tr>\n",
       "      <th>464</th>\n",
       "      <td>3</td>\n",
       "    </tr>\n",
       "    <tr>\n",
       "      <th>496</th>\n",
       "      <td>3</td>\n",
       "    </tr>\n",
       "    <tr>\n",
       "      <th>516</th>\n",
       "      <td>3</td>\n",
       "    </tr>\n",
       "    <tr>\n",
       "      <th>634</th>\n",
       "      <td>3</td>\n",
       "    </tr>\n",
       "    <tr>\n",
       "      <th>648</th>\n",
       "      <td>3</td>\n",
       "    </tr>\n",
       "    <tr>\n",
       "      <th>669</th>\n",
       "      <td>3</td>\n",
       "    </tr>\n",
       "  </tbody>\n",
       "</table>\n",
       "</div>"
      ],
      "text/plain": [
       "          label\n",
       "store_id       \n",
       "348           3\n",
       "354           3\n",
       "464           3\n",
       "496           3\n",
       "516           3\n",
       "634           3\n",
       "648           3\n",
       "669           3"
      ]
     },
     "execution_count": 31,
     "metadata": {},
     "output_type": "execute_result"
    }
   ],
   "source": [
    "# You can now select store_ids from each segment to pick the treatment and control groups\n",
    "store_labels[store_labels['label']==3]"
   ]
  },
  {
   "cell_type": "code",
   "execution_count": null,
   "id": "1e174839",
   "metadata": {},
   "outputs": [],
   "source": []
  }
 ],
 "metadata": {
  "kernelspec": {
   "display_name": "venv",
   "language": "python",
   "name": "venv"
  },
  "language_info": {
   "codemirror_mode": {
    "name": "ipython",
    "version": 3
   },
   "file_extension": ".py",
   "mimetype": "text/x-python",
   "name": "python",
   "nbconvert_exporter": "python",
   "pygments_lexer": "ipython3",
   "version": "3.9.5"
  }
 },
 "nbformat": 4,
 "nbformat_minor": 5
}
